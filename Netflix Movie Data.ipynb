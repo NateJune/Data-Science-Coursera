{
    "cells": [
        {
            "cell_type": "code",
            "execution_count": 1,
            "metadata": {},
            "outputs": [
                {
                    "data": {
                        "text/html": "<div>\n<style scoped>\n    .dataframe tbody tr th:only-of-type {\n        vertical-align: middle;\n    }\n\n    .dataframe tbody tr th {\n        vertical-align: top;\n    }\n\n    .dataframe thead th {\n        text-align: right;\n    }\n</style>\n<table border=\"1\" class=\"dataframe\">\n  <thead>\n    <tr style=\"text-align: right;\">\n      <th></th>\n      <th>person_id</th>\n      <th>id</th>\n      <th>name</th>\n      <th>character</th>\n      <th>role</th>\n    </tr>\n  </thead>\n  <tbody>\n    <tr>\n      <th>0</th>\n      <td>3748</td>\n      <td>tm84618</td>\n      <td>Robert De Niro</td>\n      <td>Travis Bickle</td>\n      <td>ACTOR</td>\n    </tr>\n    <tr>\n      <th>1</th>\n      <td>14658</td>\n      <td>tm84618</td>\n      <td>Jodie Foster</td>\n      <td>Iris Steensma</td>\n      <td>ACTOR</td>\n    </tr>\n    <tr>\n      <th>2</th>\n      <td>7064</td>\n      <td>tm84618</td>\n      <td>Albert Brooks</td>\n      <td>Tom</td>\n      <td>ACTOR</td>\n    </tr>\n    <tr>\n      <th>3</th>\n      <td>3739</td>\n      <td>tm84618</td>\n      <td>Harvey Keitel</td>\n      <td>Matthew 'Sport' Higgins</td>\n      <td>ACTOR</td>\n    </tr>\n    <tr>\n      <th>4</th>\n      <td>48933</td>\n      <td>tm84618</td>\n      <td>Cybill Shepherd</td>\n      <td>Betsy</td>\n      <td>ACTOR</td>\n    </tr>\n  </tbody>\n</table>\n</div>",
                        "text/plain": "   person_id       id             name                character   role\n0       3748  tm84618   Robert De Niro            Travis Bickle  ACTOR\n1      14658  tm84618     Jodie Foster            Iris Steensma  ACTOR\n2       7064  tm84618    Albert Brooks                      Tom  ACTOR\n3       3739  tm84618    Harvey Keitel  Matthew 'Sport' Higgins  ACTOR\n4      48933  tm84618  Cybill Shepherd                    Betsy  ACTOR"
                    },
                    "execution_count": 1,
                    "metadata": {},
                    "output_type": "execute_result"
                }
            ],
            "source": "# The code was removed by Watson Studio for sharing."
        },
        {
            "cell_type": "code",
            "execution_count": 2,
            "metadata": {},
            "outputs": [
                {
                    "data": {
                        "text/html": "<div>\n<style scoped>\n    .dataframe tbody tr th:only-of-type {\n        vertical-align: middle;\n    }\n\n    .dataframe tbody tr th {\n        vertical-align: top;\n    }\n\n    .dataframe thead th {\n        text-align: right;\n    }\n</style>\n<table border=\"1\" class=\"dataframe\">\n  <thead>\n    <tr style=\"text-align: right;\">\n      <th></th>\n      <th>id</th>\n      <th>title</th>\n      <th>type</th>\n      <th>description</th>\n      <th>release_year</th>\n      <th>age_certification</th>\n      <th>runtime</th>\n      <th>genres</th>\n      <th>production_countries</th>\n      <th>seasons</th>\n      <th>imdb_id</th>\n      <th>imdb_score</th>\n      <th>imdb_votes</th>\n      <th>tmdb_popularity</th>\n      <th>tmdb_score</th>\n    </tr>\n  </thead>\n  <tbody>\n    <tr>\n      <th>0</th>\n      <td>ts300399</td>\n      <td>Five Came Back: The Reference Films</td>\n      <td>SHOW</td>\n      <td>This collection includes 12 World War II-era p...</td>\n      <td>1945</td>\n      <td>TV-MA</td>\n      <td>48</td>\n      <td>['documentation']</td>\n      <td>['US']</td>\n      <td>1.0</td>\n      <td>NaN</td>\n      <td>NaN</td>\n      <td>NaN</td>\n      <td>0.600</td>\n      <td>NaN</td>\n    </tr>\n    <tr>\n      <th>1</th>\n      <td>tm84618</td>\n      <td>Taxi Driver</td>\n      <td>MOVIE</td>\n      <td>A mentally unstable Vietnam War veteran works ...</td>\n      <td>1976</td>\n      <td>R</td>\n      <td>113</td>\n      <td>['crime', 'drama']</td>\n      <td>['US']</td>\n      <td>NaN</td>\n      <td>tt0075314</td>\n      <td>8.3</td>\n      <td>795222.0</td>\n      <td>27.612</td>\n      <td>8.2</td>\n    </tr>\n    <tr>\n      <th>2</th>\n      <td>tm127384</td>\n      <td>Monty Python and the Holy Grail</td>\n      <td>MOVIE</td>\n      <td>King Arthur, accompanied by his squire, recrui...</td>\n      <td>1975</td>\n      <td>PG</td>\n      <td>91</td>\n      <td>['comedy', 'fantasy']</td>\n      <td>['GB']</td>\n      <td>NaN</td>\n      <td>tt0071853</td>\n      <td>8.2</td>\n      <td>530877.0</td>\n      <td>18.216</td>\n      <td>7.8</td>\n    </tr>\n    <tr>\n      <th>3</th>\n      <td>tm70993</td>\n      <td>Life of Brian</td>\n      <td>MOVIE</td>\n      <td>Brian Cohen is an average young Jewish man, bu...</td>\n      <td>1979</td>\n      <td>R</td>\n      <td>94</td>\n      <td>['comedy']</td>\n      <td>['GB']</td>\n      <td>NaN</td>\n      <td>tt0079470</td>\n      <td>8.0</td>\n      <td>392419.0</td>\n      <td>17.505</td>\n      <td>7.8</td>\n    </tr>\n    <tr>\n      <th>4</th>\n      <td>tm190788</td>\n      <td>The Exorcist</td>\n      <td>MOVIE</td>\n      <td>12-year-old Regan MacNeil begins to adapt an e...</td>\n      <td>1973</td>\n      <td>R</td>\n      <td>133</td>\n      <td>['horror']</td>\n      <td>['US']</td>\n      <td>NaN</td>\n      <td>tt0070047</td>\n      <td>8.1</td>\n      <td>391942.0</td>\n      <td>95.337</td>\n      <td>7.7</td>\n    </tr>\n  </tbody>\n</table>\n</div>",
                        "text/plain": "         id                                title   type  \\\n0  ts300399  Five Came Back: The Reference Films   SHOW   \n1   tm84618                          Taxi Driver  MOVIE   \n2  tm127384      Monty Python and the Holy Grail  MOVIE   \n3   tm70993                        Life of Brian  MOVIE   \n4  tm190788                         The Exorcist  MOVIE   \n\n                                         description  release_year  \\\n0  This collection includes 12 World War II-era p...          1945   \n1  A mentally unstable Vietnam War veteran works ...          1976   \n2  King Arthur, accompanied by his squire, recrui...          1975   \n3  Brian Cohen is an average young Jewish man, bu...          1979   \n4  12-year-old Regan MacNeil begins to adapt an e...          1973   \n\n  age_certification  runtime                 genres production_countries  \\\n0             TV-MA       48      ['documentation']               ['US']   \n1                 R      113     ['crime', 'drama']               ['US']   \n2                PG       91  ['comedy', 'fantasy']               ['GB']   \n3                 R       94             ['comedy']               ['GB']   \n4                 R      133             ['horror']               ['US']   \n\n   seasons    imdb_id  imdb_score  imdb_votes  tmdb_popularity  tmdb_score  \n0      1.0        NaN         NaN         NaN            0.600         NaN  \n1      NaN  tt0075314         8.3    795222.0           27.612         8.2  \n2      NaN  tt0071853         8.2    530877.0           18.216         7.8  \n3      NaN  tt0079470         8.0    392419.0           17.505         7.8  \n4      NaN  tt0070047         8.1    391942.0           95.337         7.7  "
                    },
                    "execution_count": 2,
                    "metadata": {},
                    "output_type": "execute_result"
                }
            ],
            "source": "\nbody = client_e1dd55c904ca4eaf9852b3c8d6f7d9ac.get_object(Bucket='cenithtechnicalpackage-donotdelete-pr-uy6umtmnytzth9',Key='titles.csv')['Body']\n# add missing __iter__ method, so pandas accepts body as file-like object\nif not hasattr(body, \"__iter__\"): body.__iter__ = types.MethodType( __iter__, body )\n\ndf_data_2 = pd.read_csv(body)\ndf_data_2.head()\n"
        }
    ],
    "metadata": {
        "kernelspec": {
            "display_name": "Python 3.9",
            "language": "python",
            "name": "python3"
        },
        "language_info": {
            "codemirror_mode": {
                "name": "ipython",
                "version": 3
            },
            "file_extension": ".py",
            "mimetype": "text/x-python",
            "name": "python",
            "nbconvert_exporter": "python",
            "pygments_lexer": "ipython3",
            "version": "3.9.12"
        }
    },
    "nbformat": 4,
    "nbformat_minor": 1
}